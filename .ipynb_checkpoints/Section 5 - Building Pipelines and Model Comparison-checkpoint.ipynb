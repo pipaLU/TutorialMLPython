{
 "cells": [
  {
   "cell_type": "markdown",
   "metadata": {},
   "source": [
    "# Section 1-4 - Building Pipelines"
   ]
  },
  {
   "cell_type": "markdown",
   "metadata": {},
   "source": [
    "GridSearchCV reviews the performance of a set range of parameters on a cross-validation basis. This means only a portion of the training data is reviewed at any one time. When filling in the NA values with the mean value, however, we considered the whole set of training data."
   ]
  },
  {
   "cell_type": "markdown",
   "metadata": {},
   "source": [
    "Hence we took an inconsistent approach in reviewing only a portion of the data when running GridSearchCV, but the full set of data when filling in missing values. We can avoid this inconsistency by building pipelines and making imputations."
   ]
  },
  {
   "cell_type": "markdown",
   "metadata": {},
   "source": [
    "## Pandas - Extracting data"
   ]
  },
  {
   "cell_type": "code",
   "execution_count": 1,
   "metadata": {
    "collapsed": false
   },
   "outputs": [],
   "source": [
    "import pandas as pd\n",
    "import numpy as np\n",
    "\n",
    "df = pd.read_csv('../data/train.csv')"
   ]
  },
  {
   "cell_type": "markdown",
   "metadata": {},
   "source": [
    "## Pandas - Cleaning data"
   ]
  },
  {
   "cell_type": "markdown",
   "metadata": {},
   "source": [
    "We will leave the NA values in the column Age."
   ]
  },
  {
   "cell_type": "code",
   "execution_count": 2,
   "metadata": {
    "collapsed": false
   },
   "outputs": [
    {
     "name": "stderr",
     "output_type": "stream",
     "text": [
      "/Applications/CompTools/miniconda/lib/python2.7/site-packages/numpy/lib/arraysetops.py:198: FutureWarning: numpy not_equal will not check object identity in the future. The comparison did not return the same result as suggested by the identity (`is`)) and will change.\n",
      "  flag = np.concatenate(([True], aux[1:] != aux[:-1]))\n"
     ]
    }
   ],
   "source": [
    "df = df.drop(['Name', 'Ticket', 'Cabin'], axis=1)\n",
    "\n",
    "age_mean = df['Age'].mean()\n",
    "\n",
    "from scipy.stats import mode\n",
    "\n",
    "mode_embarked = mode(df['Embarked'])[0][0]\n",
    "df['Embarked'] = df['Embarked'].fillna(mode_embarked)\n",
    "\n",
    "df['Gender'] = df['Sex'].map({'female': 0, 'male': 1}).astype(int)\n",
    "\n",
    "pd.get_dummies(df['Embarked'], prefix='Embarked').head(10)\n",
    "df = pd.concat([df, pd.get_dummies(df['Embarked'], prefix='Embarked')], axis=1)\n",
    "\n",
    "df = df.drop(['Sex', 'Embarked'], axis=1)\n",
    "\n",
    "cols = df.columns.tolist()\n",
    "cols = [cols[1]] + cols[0:1] + cols[2:]\n",
    "\n",
    "df = df[cols]"
   ]
  },
  {
   "cell_type": "markdown",
   "metadata": {},
   "source": [
    "We replace the NA values in the column Age with a negative value marker -1, as the following bug disallows us from using a missing value marker:\n",
    "\n",
    "https://github.com/scikit-learn/scikit-learn/issues/3044"
   ]
  },
  {
   "cell_type": "code",
   "execution_count": 3,
   "metadata": {
    "collapsed": false
   },
   "outputs": [],
   "source": [
    "df = df.fillna(-1)"
   ]
  },
  {
   "cell_type": "markdown",
   "metadata": {},
   "source": [
    "We then review our dataset."
   ]
  },
  {
   "cell_type": "code",
   "execution_count": 4,
   "metadata": {
    "collapsed": false
   },
   "outputs": [
    {
     "name": "stdout",
     "output_type": "stream",
     "text": [
      "<class 'pandas.core.frame.DataFrame'>\n",
      "Int64Index: 891 entries, 0 to 890\n",
      "Data columns (total 11 columns):\n",
      "Survived       891 non-null int64\n",
      "PassengerId    891 non-null int64\n",
      "Pclass         891 non-null int64\n",
      "Age            891 non-null float64\n",
      "SibSp          891 non-null int64\n",
      "Parch          891 non-null int64\n",
      "Fare           891 non-null float64\n",
      "Gender         891 non-null int64\n",
      "Embarked_C     891 non-null float64\n",
      "Embarked_Q     891 non-null float64\n",
      "Embarked_S     891 non-null float64\n",
      "dtypes: float64(5), int64(6)\n",
      "memory usage: 83.5 KB\n"
     ]
    }
   ],
   "source": [
    "df.info()"
   ]
  },
  {
   "cell_type": "code",
   "execution_count": 5,
   "metadata": {
    "collapsed": false
   },
   "outputs": [],
   "source": [
    "train_data = df.values"
   ]
  },
  {
   "cell_type": "markdown",
   "metadata": {},
   "source": [
    "## Scikit-learn - Training the model"
   ]
  },
  {
   "cell_type": "markdown",
   "metadata": {},
   "source": [
    "We now build a pipeline to enable us to first impute the mean value of the column Age on the portion of the training data we are considering, and second, assess the performance of our tuning parameters."
   ]
  },
  {
   "cell_type": "code",
   "execution_count": 131,
   "metadata": {
    "collapsed": false
   },
   "outputs": [],
   "source": [
    "# Building a pipeline for random forest model (rf)\n",
    "from sklearn.pipeline import Pipeline\n",
    "from sklearn.preprocessing import Imputer\n",
    "from sklearn.preprocessing import StandardScaler\n",
    "from sklearn.ensemble import RandomForestClassifier\n",
    "from sklearn.grid_search import GridSearchCV\n",
    "\n",
    "imputer = Imputer(strategy='mean', missing_values=-1)\n",
    "scaler = StandardScaler()\n",
    "clf = RandomForestClassifier()\n",
    "\n",
    "pipeline_rf = Pipeline([\n",
    "    ('imp', imputer),\n",
    "    ('rf', clf)\n",
    "])"
   ]
  },
  {
   "cell_type": "code",
   "execution_count": 132,
   "metadata": {
    "collapsed": false
   },
   "outputs": [
    {
     "name": "stdout",
     "output_type": "stream",
     "text": [
      "Training accuracy : \n",
      "0.854096520763\n"
     ]
    }
   ],
   "source": [
    "# Building a pipeline for SVM classification model (svc)\n",
    "from sklearn.svm import SVC\n",
    "from sklearn.feature_selection import SelectKBest\n",
    "from sklearn.feature_selection import f_regression\n",
    "\n",
    "# ANOVA SVM-C\n",
    "anova_filter = SelectKBest(f_regression)\n",
    "clf = SVC(kernel='rbf')\n",
    "pipeline_svm = Pipeline([\n",
    "        ('impute', imputer),\n",
    "        ('scale', scaler), \n",
    "        ('anova', anova_filter), \n",
    "        ('svc', clf)\n",
    "    ])\n",
    "\n",
    "# You can set the parameters using the names issued\n",
    "# For instance, fit using a k of 10 in the SelectKBest\n",
    "# and a parameter 'C' of the svm\n",
    "pipeline_svm.set_params(anova__k=8, svc__C=10, svc__gamma=0.1).fit(train_data[0::,2::], train_data[0::,0])\n",
    "prediction = pipeline_svm.predict(train_data[0::,2::])\n",
    "print 'Training accuracy : '\n",
    "print(pipeline_svm.score(train_data[0::,2::], train_data[0::,0]))\n"
   ]
  },
  {
   "cell_type": "markdown",
   "metadata": {},
   "source": [
    "We now setup parameter grid and run GridSearchCV as before but replacing the classifier with our pipeline."
   ]
  },
  {
   "cell_type": "code",
   "execution_count": 136,
   "metadata": {
    "collapsed": false
   },
   "outputs": [
    {
     "name": "stdout",
     "output_type": "stream",
     "text": [
      "Fitting 5 folds for each of 6 candidates, totalling 30 fits\n",
      "[CV] rf__max_depth=5, rf__n_estimators=50 ............................\n",
      "[CV] ... rf__max_depth=5, rf__n_estimators=50, score=0.832402 -   0.1s\n",
      "[CV] rf__max_depth=5, rf__n_estimators=50 ............................\n",
      "[CV] ... rf__max_depth=5, rf__n_estimators=50, score=0.804469 -   0.1s\n",
      "[CV] rf__max_depth=5, rf__n_estimators=50 ............................\n",
      "[CV] ... rf__max_depth=5, rf__n_estimators=50, score=0.820225 -   0.1s\n",
      "[CV] rf__max_depth=5, rf__n_estimators=50 ............................\n",
      "[CV] ... rf__max_depth=5, rf__n_estimators=50, score=0.797753 -   0.1s\n",
      "[CV] rf__max_depth=5, rf__n_estimators=50 ............................\n",
      "[CV] ... rf__max_depth=5, rf__n_estimators=50, score=0.870056 -   0.1s\n",
      "[CV] rf__max_depth=5, rf__n_estimators=100 ...........................\n",
      "[CV] .. rf__max_depth=5, rf__n_estimators=100, score=0.798883 -   0.2s\n",
      "[CV] rf__max_depth=5, rf__n_estimators=100 ...........................\n",
      "[CV] .. rf__max_depth=5, rf__n_estimators=100, score=0.815642 -   0.2s\n",
      "[CV] rf__max_depth=5, rf__n_estimators=100 ...........................\n",
      "[CV] .. rf__max_depth=5, rf__n_estimators=100, score=0.820225 -   0.2s\n",
      "[CV] rf__max_depth=5, rf__n_estimators=100 ...........................\n",
      "[CV] .. rf__max_depth=5, rf__n_estimators=100, score=0.792135 -   0.2s\n",
      "[CV] rf__max_depth=5, rf__n_estimators=100 ...........................\n",
      "[CV] .. rf__max_depth=5, rf__n_estimators=100, score=0.836158 -   0.2s\n",
      "[CV] rf__max_depth=5, rf__n_estimators=1000 ..........................\n",
      "[CV] . rf__max_depth=5, rf__n_estimators=1000, score=0.810056 -   2.3s\n",
      "[CV] rf__max_depth=5, rf__n_estimators=1000 ..........................\n",
      "[CV] . rf__max_depth=5, rf__n_estimators=1000, score=0.826816 -   1.6s\n",
      "[CV] rf__max_depth=5, rf__n_estimators=1000 ..........................\n",
      "[CV] . rf__max_depth=5, rf__n_estimators=1000, score=0.831461 -   1.6s\n",
      "[CV] rf__max_depth=5, rf__n_estimators=1000 ..........................\n",
      "[CV] . rf__max_depth=5, rf__n_estimators=1000, score=0.786517 -   2.0s\n",
      "[CV] rf__max_depth=5, rf__n_estimators=1000 ..........................\n",
      "[CV] . rf__max_depth=5, rf__n_estimators=1000, score=0.841808 -   1.9s\n",
      "[CV] rf__max_depth=None, rf__n_estimators=50 .........................\n",
      "[CV]  rf__max_depth=None, rf__n_estimators=50, score=0.782123 -   0.1s\n",
      "[CV] rf__max_depth=None, rf__n_estimators=50 .........................\n",
      "[CV]  rf__max_depth=None, rf__n_estimators=50, score=0.815642 -   0.1s\n",
      "[CV] rf__max_depth=None, rf__n_estimators=50 .........................\n",
      "[CV]  rf__max_depth=None, rf__n_estimators=50, score=0.870787 -   0.1s\n",
      "[CV] rf__max_depth=None, rf__n_estimators=50 .........................\n",
      "[CV]  rf__max_depth=None, rf__n_estimators=50, score=0.775281 -   0.1s\n",
      "[CV] rf__max_depth=None, rf__n_estimators=50 .........................\n",
      "[CV]  rf__max_depth=None, rf__n_estimators=50, score=0.830508 -   0.1s\n",
      "[CV] rf__max_depth=None, rf__n_estimators=100 ........................\n",
      "[CV]  rf__max_depth=None, rf__n_estimators=100, score=0.798883 -   0.2s\n",
      "[CV] rf__max_depth=None, rf__n_estimators=100 ........................\n",
      "[CV]  rf__max_depth=None, rf__n_estimators=100, score=0.815642 -   0.2s\n",
      "[CV] rf__max_depth=None, rf__n_estimators=100 ........................\n",
      "[CV]  rf__max_depth=None, rf__n_estimators=100, score=0.842697 -   0.2s\n",
      "[CV] rf__max_depth=None, rf__n_estimators=100 ........................\n",
      "[CV]  rf__max_depth=None, rf__n_estimators=100, score=0.780899 -   0.2s\n",
      "[CV] rf__max_depth=None, rf__n_estimators=100 ........................\n",
      "[CV]  rf__max_depth=None, rf__n_estimators=100, score=0.824859 -   0.2s\n",
      "[CV] rf__max_depth=None, rf__n_estimators=1000 .......................\n",
      "[CV]  rf__max_depth=None, rf__n_estimators=1000, score=0.787709 -   2.1s\n",
      "[CV] rf__max_depth=None, rf__n_estimators=1000 .......................\n",
      "[CV]  rf__max_depth=None, rf__n_estimators=1000, score=0.815642 -   1.8s\n",
      "[CV] rf__max_depth=None, rf__n_estimators=1000 .......................\n",
      "[CV]  rf__max_depth=None, rf__n_estimators=1000, score=0.859551 -   1.8s\n",
      "[CV] rf__max_depth=None, rf__n_estimators=1000 .......................\n",
      "[CV]  rf__max_depth=None, rf__n_estimators=1000, score=0.769663 -   2.1s\n",
      "[CV] rf__max_depth=None, rf__n_estimators=1000 .......................\n",
      "[CV]  rf__max_depth=None, rf__n_estimators=1000, score=0.836158 -   1.8s"
     ]
    },
    {
     "name": "stderr",
     "output_type": "stream",
     "text": [
      "[Parallel(n_jobs=1)]: Done   1 jobs       | elapsed:    0.1s\n",
      "[Parallel(n_jobs=1)]: Done  30 out of  30 | elapsed:   22.0s finished\n"
     ]
    },
    {
     "name": "stdout",
     "output_type": "stream",
     "text": [
      "\n",
      "0.824915824916\n",
      "{'rf__max_depth': 5, 'rf__n_estimators': 50}\n",
      "Fitting 5 folds for each of 12 candidates, totalling 60 fits\n",
      "[CV] svc__gamma=0.1, anova__k=4, svc__C=0.1 ..........................\n",
      "[CV] . svc__gamma=0.1, anova__k=4, svc__C=0.1, score=0.793296 -   0.0s\n",
      "[CV] svc__gamma=0.1, anova__k=4, svc__C=0.1 ..........................\n",
      "[CV] . svc__gamma=0.1, anova__k=4, svc__C=0.1, score=0.804469 -   0.0s\n",
      "[CV] svc__gamma=0.1, anova__k=4, svc__C=0.1 ..........................\n",
      "[CV] . svc__gamma=0.1, anova__k=4, svc__C=0.1, score=0.769663 -   0.0s\n",
      "[CV] svc__gamma=0.1, anova__k=4, svc__C=0.1 ..........................\n",
      "[CV] . svc__gamma=0.1, anova__k=4, svc__C=0.1, score=0.752809 -   0.0s\n",
      "[CV] svc__gamma=0.1, anova__k=4, svc__C=0.1 ..........................\n",
      "[CV] . svc__gamma=0.1, anova__k=4, svc__C=0.1, score=0.790960 -   0.0s\n",
      "[CV] svc__gamma=1, anova__k=4, svc__C=0.1 ............................\n",
      "[CV] ... svc__gamma=1, anova__k=4, svc__C=0.1, score=0.726257 -   0.0s\n",
      "[CV] svc__gamma=1, anova__k=4, svc__C=0.1 ............................\n",
      "[CV] ... svc__gamma=1, anova__k=4, svc__C=0.1, score=0.793296 -   0.0s\n",
      "[CV] svc__gamma=1, anova__k=4, svc__C=0.1 ............................\n",
      "[CV] ... svc__gamma=1, anova__k=4, svc__C=0.1, score=0.775281 -   0.0s\n",
      "[CV] svc__gamma=1, anova__k=4, svc__C=0.1 ............................\n",
      "[CV] ... svc__gamma=1, anova__k=4, svc__C=0.1, score=0.775281 -   0.0s\n",
      "[CV] svc__gamma=1, anova__k=4, svc__C=0.1 ............................\n",
      "[CV] ... svc__gamma=1, anova__k=4, svc__C=0.1, score=0.819209 -   0.0s\n",
      "[CV] svc__gamma=0.1, anova__k=4, svc__C=10 ...........................\n",
      "[CV] .. svc__gamma=0.1, anova__k=4, svc__C=10, score=0.748603 -   0.0s\n",
      "[CV] svc__gamma=0.1, anova__k=4, svc__C=10 ...........................\n",
      "[CV] .. svc__gamma=0.1, anova__k=4, svc__C=10, score=0.798883 -   0.0s\n",
      "[CV] svc__gamma=0.1, anova__k=4, svc__C=10 ...........................\n",
      "[CV] .. svc__gamma=0.1, anova__k=4, svc__C=10, score=0.792135 -   0.1s\n",
      "[CV] svc__gamma=0.1, anova__k=4, svc__C=10 ...........................\n",
      "[CV] .. svc__gamma=0.1, anova__k=4, svc__C=10, score=0.769663 -   0.1s\n",
      "[CV] svc__gamma=0.1, anova__k=4, svc__C=10 ...........................\n",
      "[CV] .. svc__gamma=0.1, anova__k=4, svc__C=10, score=0.819209 -   0.1s\n",
      "[CV] svc__gamma=1, anova__k=4, svc__C=10 .............................\n",
      "[CV] .... svc__gamma=1, anova__k=4, svc__C=10, score=0.731844 -   0.1s\n",
      "[CV] svc__gamma=1, anova__k=4, svc__C=10 .............................\n",
      "[CV] .... svc__gamma=1, anova__k=4, svc__C=10, score=0.759777 -   0.0s\n",
      "[CV] svc__gamma=1, anova__k=4, svc__C=10 .............................\n",
      "[CV] .... svc__gamma=1, anova__k=4, svc__C=10, score=0.820225 -   0.1s\n",
      "[CV] svc__gamma=1, anova__k=4, svc__C=10 .............................\n",
      "[CV] .... svc__gamma=1, anova__k=4, svc__C=10, score=0.808989 -   0.1s\n",
      "[CV] svc__gamma=1, anova__k=4, svc__C=10 .............................\n",
      "[CV] .... svc__gamma=1, anova__k=4, svc__C=10, score=0.819209 -   0.2s\n",
      "[CV] svc__gamma=0.1, anova__k=6, svc__C=0.1 ..........................\n",
      "[CV] . svc__gamma=0.1, anova__k=6, svc__C=0.1, score=0.793296 -   0.1s\n",
      "[CV] svc__gamma=0.1, anova__k=6, svc__C=0.1 ..........................\n",
      "[CV] . svc__gamma=0.1, anova__k=6, svc__C=0.1, score=0.804469 -   0.0s\n",
      "[CV] svc__gamma=0.1, anova__k=6, svc__C=0.1 ..........................\n",
      "[CV] . svc__gamma=0.1, anova__k=6, svc__C=0.1, score=0.769663 -   0.0s\n",
      "[CV] svc__gamma=0.1, anova__k=6, svc__C=0.1 ..........................\n",
      "[CV] . svc__gamma=0.1, anova__k=6, svc__C=0.1, score=0.775281 -   0.0s\n",
      "[CV] svc__gamma=0.1, anova__k=6, svc__C=0.1 ..........................\n",
      "[CV] . svc__gamma=0.1, anova__k=6, svc__C=0.1, score=0.790960 -   0.0s\n",
      "[CV] svc__gamma=1, anova__k=6, svc__C=0.1 ............................\n",
      "[CV] ... svc__gamma=1, anova__k=6, svc__C=0.1, score=0.754190 -   0.0s\n",
      "[CV] svc__gamma=1, anova__k=6, svc__C=0.1 ............................\n",
      "[CV] ... svc__gamma=1, anova__k=6, svc__C=0.1, score=0.815642 -   0.1s\n",
      "[CV] svc__gamma=1, anova__k=6, svc__C=0.1 ............................\n",
      "[CV] ... svc__gamma=1, anova__k=6, svc__C=0.1, score=0.831461 -   0.0s\n",
      "[CV] svc__gamma=1, anova__k=6, svc__C=0.1 ............................\n",
      "[CV] ... svc__gamma=1, anova__k=6, svc__C=0.1, score=0.775281 -   0.0s\n",
      "[CV] svc__gamma=1, anova__k=6, svc__C=0.1 ............................\n",
      "[CV] ... svc__gamma=1, anova__k=6, svc__C=0.1, score=0.802260 -   0.0s\n",
      "[CV] svc__gamma=0.1, anova__k=6, svc__C=10 ...........................\n",
      "[CV] .. svc__gamma=0.1, anova__k=6, svc__C=10, score=0.798883 -   0.0s\n",
      "[CV] svc__gamma=0.1, anova__k=6, svc__C=10 ..........................."
     ]
    },
    {
     "name": "stderr",
     "output_type": "stream",
     "text": [
      "[Parallel(n_jobs=1)]: Done   1 jobs       | elapsed:    0.0s\n",
      "[Parallel(n_jobs=1)]: Done  32 jobs       | elapsed:    1.6s\n"
     ]
    },
    {
     "name": "stdout",
     "output_type": "stream",
     "text": [
      "\n",
      "[CV] .. svc__gamma=0.1, anova__k=6, svc__C=10, score=0.821229 -   0.0s\n",
      "[CV] svc__gamma=0.1, anova__k=6, svc__C=10 ...........................\n",
      "[CV] .. svc__gamma=0.1, anova__k=6, svc__C=10, score=0.831461 -   0.1s\n",
      "[CV] svc__gamma=0.1, anova__k=6, svc__C=10 ...........................\n",
      "[CV] .. svc__gamma=0.1, anova__k=6, svc__C=10, score=0.780899 -   0.1s\n",
      "[CV] svc__gamma=0.1, anova__k=6, svc__C=10 ...........................\n",
      "[CV] .. svc__gamma=0.1, anova__k=6, svc__C=10, score=0.841808 -   0.0s\n",
      "[CV] svc__gamma=1, anova__k=6, svc__C=10 .............................\n",
      "[CV] .... svc__gamma=1, anova__k=6, svc__C=10, score=0.798883 -   0.1s\n",
      "[CV] svc__gamma=1, anova__k=6, svc__C=10 .............................\n",
      "[CV] .... svc__gamma=1, anova__k=6, svc__C=10, score=0.743017 -   0.0s\n",
      "[CV] svc__gamma=1, anova__k=6, svc__C=10 .............................\n",
      "[CV] .... svc__gamma=1, anova__k=6, svc__C=10, score=0.814607 -   0.1s\n",
      "[CV] svc__gamma=1, anova__k=6, svc__C=10 .............................\n",
      "[CV] .... svc__gamma=1, anova__k=6, svc__C=10, score=0.786517 -   0.1s\n",
      "[CV] svc__gamma=1, anova__k=6, svc__C=10 .............................\n",
      "[CV] .... svc__gamma=1, anova__k=6, svc__C=10, score=0.824859 -   0.1s\n",
      "[CV] svc__gamma=0.1, anova__k=7, svc__C=0.1 ..........................\n",
      "[CV] . svc__gamma=0.1, anova__k=7, svc__C=0.1, score=0.793296 -   0.0s\n",
      "[CV] svc__gamma=0.1, anova__k=7, svc__C=0.1 ..........................\n",
      "[CV] . svc__gamma=0.1, anova__k=7, svc__C=0.1, score=0.810056 -   0.0s\n",
      "[CV] svc__gamma=0.1, anova__k=7, svc__C=0.1 ..........................\n",
      "[CV] . svc__gamma=0.1, anova__k=7, svc__C=0.1, score=0.769663 -   0.0s\n",
      "[CV] svc__gamma=0.1, anova__k=7, svc__C=0.1 ..........................\n",
      "[CV] . svc__gamma=0.1, anova__k=7, svc__C=0.1, score=0.775281 -   0.1s\n",
      "[CV] svc__gamma=0.1, anova__k=7, svc__C=0.1 ..........................\n",
      "[CV] . svc__gamma=0.1, anova__k=7, svc__C=0.1, score=0.802260 -   0.0s\n",
      "[CV] svc__gamma=1, anova__k=7, svc__C=0.1 ............................\n",
      "[CV] ... svc__gamma=1, anova__k=7, svc__C=0.1, score=0.765363 -   0.0s\n",
      "[CV] svc__gamma=1, anova__k=7, svc__C=0.1 ............................\n",
      "[CV] ... svc__gamma=1, anova__k=7, svc__C=0.1, score=0.804469 -   0.0s\n",
      "[CV] svc__gamma=1, anova__k=7, svc__C=0.1 ............................\n",
      "[CV] ... svc__gamma=1, anova__k=7, svc__C=0.1, score=0.758427 -   0.0s\n",
      "[CV] svc__gamma=1, anova__k=7, svc__C=0.1 ............................\n",
      "[CV] ... svc__gamma=1, anova__k=7, svc__C=0.1, score=0.747191 -   0.1s\n",
      "[CV] svc__gamma=1, anova__k=7, svc__C=0.1 ............................\n",
      "[CV] ... svc__gamma=1, anova__k=7, svc__C=0.1, score=0.734463 -   0.1s\n",
      "[CV] svc__gamma=0.1, anova__k=7, svc__C=10 ...........................\n",
      "[CV] .. svc__gamma=0.1, anova__k=7, svc__C=10, score=0.765363 -   0.0s\n",
      "[CV] svc__gamma=0.1, anova__k=7, svc__C=10 ...........................\n",
      "[CV] .. svc__gamma=0.1, anova__k=7, svc__C=10, score=0.821229 -   0.1s\n",
      "[CV] svc__gamma=0.1, anova__k=7, svc__C=10 ...........................\n",
      "[CV] .. svc__gamma=0.1, anova__k=7, svc__C=10, score=0.820225 -   0.1s\n",
      "[CV] svc__gamma=0.1, anova__k=7, svc__C=10 ...........................\n",
      "[CV] .. svc__gamma=0.1, anova__k=7, svc__C=10, score=0.769663 -   0.1s\n",
      "[CV] svc__gamma=0.1, anova__k=7, svc__C=10 ...........................\n",
      "[CV] .. svc__gamma=0.1, anova__k=7, svc__C=10, score=0.830508 -   0.1s\n",
      "[CV] svc__gamma=1, anova__k=7, svc__C=10 .............................\n",
      "[CV] .... svc__gamma=1, anova__k=7, svc__C=10, score=0.759777 -   0.1s\n",
      "[CV] svc__gamma=1, anova__k=7, svc__C=10 .............................\n",
      "[CV] .... svc__gamma=1, anova__k=7, svc__C=10, score=0.770950 -   0.1s\n",
      "[CV] svc__gamma=1, anova__k=7, svc__C=10 .............................\n",
      "[CV] .... svc__gamma=1, anova__k=7, svc__C=10, score=0.803371 -   0.1s\n",
      "[CV] svc__gamma=1, anova__k=7, svc__C=10 .............................\n",
      "[CV] .... svc__gamma=1, anova__k=7, svc__C=10, score=0.792135 -   0.1s\n",
      "[CV] svc__gamma=1, anova__k=7, svc__C=10 .............................\n",
      "[CV] .... svc__gamma=1, anova__k=7, svc__C=10, score=0.802260 -   0.1s\n",
      "0.814814814815\n",
      "{'svc__gamma': 0.1, 'anova__k': 6, 'svc__C': 10}\n"
     ]
    },
    {
     "name": "stderr",
     "output_type": "stream",
     "text": [
      "[Parallel(n_jobs=1)]: Done  60 out of  60 | elapsed:    3.5s finished\n"
     ]
    }
   ],
   "source": [
    "pipeline_dict = {'rf': pipeline_rf, 'svm': pipeline_svm} \n",
    "parameter_grid_dict = {}\n",
    "parameter_grid_dict['rf'] = {\n",
    "            'rf__n_estimators': [50, 100, 1000],\n",
    "            'rf__max_depth': [5, None],\n",
    "        }\n",
    "\n",
    "parameter_grid_dict['svm'] = {\n",
    "            'anova__k': [4, 6, 7],\n",
    "            'svc__C': [0.1, 10],\n",
    "            'svc__gamma': [0.1, 1]\n",
    "        }\n",
    "\n",
    "grid_results = {}\n",
    "for alg in ['rf', 'svm']:\n",
    "    pipeline = pipeline_dict[alg]\n",
    "    parameter_grid = parameter_grid_dict[alg]    \n",
    "    grid_search = GridSearchCV(pipeline, parameter_grid, cv=5, verbose=3)\n",
    "    grid_search.fit(train_data[0::,2::], train_data[0::,0])\n",
    "\n",
    "    sorted(grid_search.grid_scores_, key=lambda x: x.mean_validation_score)\n",
    "    print(grid_search.best_score_)\n",
    "    print(grid_search.best_params_)\n",
    "    \n",
    "    grid_results[alg] = grid_search    \n",
    "    "
   ]
  },
  {
   "cell_type": "code",
   "execution_count": 141,
   "metadata": {
    "collapsed": false
   },
   "outputs": [
    {
     "name": "stdout",
     "output_type": "stream",
     "text": [
      "Best accuracy for rf :\n",
      "0.824915824916\n",
      "{'rf__max_depth': 5, 'rf__n_estimators': 50}\n",
      "Best accuracy for svm :\n",
      "0.814814814815\n",
      "{'svc__gamma': 0.1, 'anova__k': 6, 'svc__C': 10}\n"
     ]
    }
   ],
   "source": [
    "from scipy import stats\n",
    "# Analysis of the results from pipelines\n",
    "\n",
    "for alg in grid_results:\n",
    "    grid_search = grid_results[alg]\n",
    "    sorted(grid_search.grid_scores_, key=lambda x: x.mean_validation_score)\n",
    "    print 'Best accuracy for %s :' % alg\n",
    "    print(grid_search.best_score_)\n",
    "    print(grid_search.best_params_)\n"
   ]
  },
  {
   "cell_type": "code",
   "execution_count": 142,
   "metadata": {
    "collapsed": false
   },
   "outputs": [
    {
     "data": {
      "text/plain": [
       "Pipeline(steps=[('impute', Imputer(axis=0, copy=True, missing_values=-1, strategy='mean', verbose=0)), ('scale', StandardScaler(copy=True, with_mean=True, with_std=True)), ('anova', SelectKBest(k=6, score_func=<function f_regression at 0x10724fb18>)), ('svc', SVC(C=10, cache_size=200, class_weight=None, coef0=0.0, degree=3, gamma=0.1,\n",
       "  kernel='rbf', max_iter=-1, probability=False, random_state=None,\n",
       "  shrinking=True, tol=0.001, verbose=False))])"
      ]
     },
     "execution_count": 142,
     "metadata": {},
     "output_type": "execute_result"
    }
   ],
   "source": [
    "# Set the parameters of the models to the best ones selected from grid search\n",
    "pipeline_rf.set_params(rf__n_estimators=50, rf__max_depth=5)\n",
    "pipeline_svm.set_params(anova__k=6, svc__C=10, svc__gamma=0.1)"
   ]
  },
  {
   "cell_type": "markdown",
   "metadata": {},
   "source": [
    "Now to compare performance of different models, perform CV using the best hyper-parameters selected using grid search based on the previous pipeline analysis. This time we use 10-fold CV instead of 5-fold CV in order to get more  "
   ]
  },
  {
   "cell_type": "code",
   "execution_count": 167,
   "metadata": {
    "collapsed": false
   },
   "outputs": [
    {
     "ename": "AttributeError",
     "evalue": "'StratifiedKFold' object has no attribute 'label_test_folds'",
     "output_type": "error",
     "traceback": [
      "\u001b[0;31m---------------------------------------------------------------------------\u001b[0m",
      "\u001b[0;31mAttributeError\u001b[0m                            Traceback (most recent call last)",
      "\u001b[0;32m<ipython-input-167-7574e966874b>\u001b[0m in \u001b[0;36m<module>\u001b[0;34m()\u001b[0m\n\u001b[0;32m----> 1\u001b[0;31m \u001b[0mscv1\u001b[0m\u001b[0;34m.\u001b[0m\u001b[0mlabel_test_folds\u001b[0m\u001b[0;34m\u001b[0m\u001b[0m\n\u001b[0m",
      "\u001b[0;31mAttributeError\u001b[0m: 'StratifiedKFold' object has no attribute 'label_test_folds'"
     ]
    }
   ],
   "source": [
    "scv1.label_test_folds"
   ]
  },
  {
   "cell_type": "code",
   "execution_count": null,
   "metadata": {
    "collapsed": true
   },
   "outputs": [],
   "source": [
    "if False:\n",
    "    pipeline.fit(X_train, y_train)\n",
    "    # Get prediction on class label from the model\n",
    "    y_prediction = pipeline.predict(X_test)\n",
    "    \n",
    "    # Get probability or decision function output from the model\n",
    "    try:\n",
    "         y_out = pipeline.predict_proba(X_test)[:,1]                     \n",
    "    except AttributeError:\n",
    "         print \"No probability output, use decision function instead!\"\n",
    "         y_out = pipeline.decision_function(X_test)\n",
    "    \n",
    "    acc = np.sum(y_test == y_prediction)*1./len(y_test)\n",
    "    print \"Prediction accuracy:\", acc\n",
    "    # Compute area under the ROC curve (AUC)\n",
    "    fpr, tpr, thresholds = roc_curve(y_test, y_out)\n",
    "    roc_auc = auc(fpr, tpr)\n",
    "    print(\"Area under ROC curve (AUC):%s\"%roc_auc)\n"
   ]
  },
  {
   "cell_type": "code",
   "execution_count": 156,
   "metadata": {
    "collapsed": false
   },
   "outputs": [
    {
     "name": "stdout",
     "output_type": "stream",
     "text": [
      "sklearn.cross_validation.StratifiedKFold(labels=[ 0.  1.  1.  1.  0.  0.  0.  0.  1.  1.  1.  1.  0.  0.  0.  1.  0.  1.\n",
      "  0.  1.  0.  1.  1.  1.  0.  1.  0.  0.  1.  0.  0.  1.  1.  0.  0.  0.\n",
      "  1.  0.  0.  1.  0.  0.  0.  1.  1.  0.  0.  1.  0.  0.  0.  0.  1.  1.\n",
      "  0.  1.  1.  0.  1.  0.  0.  1.  0.  0.  0.  1.  1.  0.  1.  0.  0.  0.\n",
      "  0.  0.  1.  0.  0.  0.  1.  1.  0.  1.  1.  0.  1.  1.  0.  0.  1.  0.\n",
      "  0.  0.  0.  0.  0.  0.  0.  1.  1.  0.  0.  0.  0.  0.  0.  0.  1.  1.\n",
      "  0.  1.  0.  0.  0.  0.  0.  0.  0.  0.  0.  0.  0.  0.  0.  1.  0.  1.\n",
      "  0.  1.  1.  0.  0.  0.  0.  1.  0.  0.  1.  0.  0.  0.  0.  1.  1.  0.\n",
      "  0.  0.  1.  0.  0.  0.  0.  1.  0.  0.  0.  0.  1.  0.  0.  0.  0.  1.\n",
      "  0.  0.  0.  1.  1.  0.  0.  0.  0.  0.  1.  0.  0.  0.  0.  0.  0.  0.\n",
      "  0.  0.  0.  1.  1.  0.  1.  1.  0.  0.  1.  0.  1.  1.  1.  1.  0.  0.\n",
      "  1.  0.  0.  0.  0.  0.  1.  0.  0.  1.  1.  1.  0.  1.  0.  0.  0.  1.\n",
      "  1.  0.  1.  0.  1.  0.  0.  0.  1.  0.  1.  0.  0.  0.  1.  0.  0.  1.\n",
      "  0.  0.  0.  1.  0.  0.  0.  1.  0.  0.  0.  0.  0.  1.  1.  0.  0.  0.\n",
      "  0.  0.  0.  1.  1.  1.  1.  1.  0.  1.  0.  0.  0.  0.  0.  1.  1.  1.\n",
      "  0.  1.  1.  0.  1.  1.  0.  0.  0.  1.  0.  0.  0.  1.  0.  0.  1.  0.\n",
      "  1.  1.  1.  1.  0.  0.  0.  0.  0.  0.  1.  1.  1.  1.  0.  1.  0.  1.\n",
      "  1.  1.  0.  1.  1.  1.  0.  0.  0.  1.  1.  0.  1.  1.  0.  0.  1.  1.\n",
      "  0.  1.  0.  1.  1.  1.  1.  0.  0.  0.  1.  0.  0.  1.  1.  0.  1.  1.\n",
      "  0.  0.  0.  1.  1.  1.  1.  0.  0.  0.  0.  0.  0.  0.  1.  0.  1.  1.\n",
      "  0.  0.  0.  0.  0.  0.  1.  1.  1.  1.  1.  0.  0.  0.  0.  1.  1.  0.\n",
      "  0.  0.  1.  1.  0.  1.  0.  0.  0.  1.  0.  1.  1.  1.  0.  1.  1.  0.\n",
      "  0.  0.  0.  1.  1.  0.  0.  0.  0.  0.  0.  1.  0.  0.  0.  0.  1.  0.\n",
      "  1.  0.  1.  1.  0.  0.  0.  0.  0.  0.  0.  0.  1.  1.  0.  1.  1.  1.\n",
      "  1.  0.  0.  1.  0.  1.  0.  0.  1.  0.  0.  1.  1.  1.  1.  1.  1.  1.\n",
      "  0.  0.  0.  1.  0.  1.  0.  1.  1.  0.  1.  0.  0.  0.  0.  0.  0.  0.\n",
      "  0.  1.  0.  0.  1.  1.  0.  0.  0.  0.  0.  1.  0.  0.  0.  1.  1.  0.\n",
      "  1.  0.  0.  1.  0.  0.  0.  0.  0.  0.  1.  0.  0.  0.  0.  0.  0.  0.\n",
      "  1.  0.  1.  1.  0.  1.  1.  0.  1.  1.  0.  0.  1.  0.  1.  0.  1.  0.\n",
      "  0.  1.  0.  0.  1.  0.  0.  0.  1.  0.  0.  1.  0.  1.  0.  1.  0.  1.\n",
      "  1.  0.  0.  1.  0.  0.  1.  1.  0.  1.  1.  0.  0.  1.  1.  0.  1.  0.\n",
      "  1.  1.  0.  0.  0.  0.  0.  0.  0.  0.  0.  1.  1.  1.  1.  1.  0.  0.\n",
      "  1.  1.  0.  1.  1.  1.  0.  0.  0.  1.  0.  1.  0.  0.  0.  1.  0.  0.\n",
      "  0.  0.  1.  0.  0.  1.  1.  0.  0.  0.  1.  0.  0.  1.  1.  1.  0.  0.\n",
      "  1.  0.  0.  1.  0.  0.  1.  0.  0.  1.  1.  0.  0.  0.  0.  1.  0.  0.\n",
      "  1.  0.  1.  0.  0.  1.  0.  0.  0.  0.  0.  1.  0.  1.  1.  1.  0.  1.\n",
      "  0.  1.  0.  1.  0.  1.  0.  0.  0.  0.  0.  0.  1.  0.  0.  0.  1.  0.\n",
      "  0.  0.  0.  1.  1.  0.  0.  1.  0.  0.  0.  1.  0.  1.  0.  1.  0.  0.\n",
      "  0.  0.  0.  0.  0.  1.  1.  1.  1.  0.  0.  0.  0.  1.  0.  0.  1.  1.\n",
      "  0.  0.  0.  0.  1.  1.  1.  1.  1.  0.  1.  0.  0.  0.  1.  1.  0.  0.\n",
      "  1.  0.  0.  0.  1.  0.  1.  1.  0.  0.  1.  0.  0.  0.  0.  0.  0.  1.\n",
      "  0.  0.  1.  0.  1.  0.  1.  0.  0.  1.  0.  0.  1.  1.  0.  0.  1.  1.\n",
      "  0.  0.  0.  1.  0.  0.  1.  1.  0.  1.  0.  0.  0.  0.  0.  0.  0.  0.\n",
      "  1.  0.  0.  1.  0.  1.  1.  1.  0.  0.  0.  0.  1.  0.  1.  0.  0.  0.\n",
      "  0.  0.  0.  0.  1.  1.  0.  0.  0.  1.  1.  1.  1.  0.  0.  0.  0.  1.\n",
      "  0.  0.  0.  0.  0.  0.  0.  0.  0.  0.  1.  1.  0.  1.  0.  0.  0.  1.\n",
      "  1.  1.  1.  1.  0.  0.  0.  1.  0.  0.  1.  1.  0.  0.  1.  0.  0.  0.\n",
      "  0.  0.  0.  1.  0.  0.  0.  1.  0.  1.  1.  1.  1.  0.  0.  0.  1.  0.\n",
      "  0.  1.  1.  0.  0.  1.  0.  1.  0.  0.  1.  1.  0.  0.  0.  1.  1.  0.\n",
      "  0.  0.  0.  0.  0.  1.  0.  1.  0.], n_folds=5, shuffle=False, random_state=1234)\n",
      "--- CV using rf ---\n"
     ]
    },
    {
     "ename": "ValueError",
     "evalue": "too many values to unpack",
     "output_type": "error",
     "traceback": [
      "\u001b[0;31m---------------------------------------------------------------------------\u001b[0m",
      "\u001b[0;31mValueError\u001b[0m                                Traceback (most recent call last)",
      "\u001b[0;32m<ipython-input-156-7d3e72f06e14>\u001b[0m in \u001b[0;36m<module>\u001b[0;34m()\u001b[0m\n\u001b[1;32m     29\u001b[0m   \u001b[0mi\u001b[0m \u001b[0;34m=\u001b[0m \u001b[0;36m0\u001b[0m\u001b[0;34m\u001b[0m\u001b[0m\n\u001b[1;32m     30\u001b[0m   \u001b[0;32mprint\u001b[0m \u001b[0;34m'--- CV using %s ---'\u001b[0m \u001b[0;34m%\u001b[0m \u001b[0malg\u001b[0m\u001b[0;34m\u001b[0m\u001b[0m\n\u001b[0;32m---> 31\u001b[0;31m   \u001b[0;32mfor\u001b[0m \u001b[0mtraining_set\u001b[0m\u001b[0;34m,\u001b[0m \u001b[0mtest_set\u001b[0m \u001b[0;32min\u001b[0m \u001b[0;34m[\u001b[0m\u001b[0mscv1\u001b[0m\u001b[0;34m,\u001b[0m \u001b[0mscv2\u001b[0m\u001b[0;34m]\u001b[0m\u001b[0;34m:\u001b[0m\u001b[0;34m\u001b[0m\u001b[0m\n\u001b[0m\u001b[1;32m     32\u001b[0m     \u001b[0mi\u001b[0m\u001b[0;34m+=\u001b[0m\u001b[0;36m1\u001b[0m\u001b[0;34m\u001b[0m\u001b[0m\n\u001b[1;32m     33\u001b[0m     \u001b[0mX_train\u001b[0m \u001b[0;34m=\u001b[0m \u001b[0mX\u001b[0m\u001b[0;34m[\u001b[0m\u001b[0mtraining_set\u001b[0m\u001b[0;34m]\u001b[0m\u001b[0;34m\u001b[0m\u001b[0m\n",
      "\u001b[0;31mValueError\u001b[0m: too many values to unpack"
     ]
    }
   ],
   "source": [
    "%matplotlib inline \n",
    "import matplotlib.pyplot as plt\n",
    "from sklearn.metrics import roc_curve, auc\n",
    "from sklearn.cross_validation import StratifiedKFold as SKFold\n",
    "#from sklearn.naive_bayes import MultinomialNB, BernoulliNB, GaussianNB\n",
    "\n",
    "#pipeline_rf.set_params([grid_results[0].best_params_])\n",
    "#pipeline_svm.set_params(grid_results[1].best_params_)\n",
    "\n",
    "X = train_data[0:, 2:]\n",
    "y = train_data[0:, 0]\n",
    "\n",
    "scv1 = SKFold(y=y, n_folds=5, random_state=1234)\n",
    "scv2 = SKFold(y=y, n_folds=5, random_state=5678)\n",
    "\n",
    "print(scv1)\n",
    "\n",
    "def getAccAuc(pipeline, X_train, y_train, X_test, y_test):\n",
    "    pipeline.fit(X_train, y_train)\n",
    "    # Get prediction on class label from the model\n",
    "    y_prediction = pipeline.predict(X_test)\n",
    "    \n",
    "    # Get probability or decision function output from the model\n",
    "    try:\n",
    "         y_out = pipeline.predict_proba(X_test)[:,1]                     \n",
    "    except AttributeError:\n",
    "         print \"No probability output, use decision function instead!\"\n",
    "         y_out = pipeline.decision_function(X_test)\n",
    "    \n",
    "    acc = np.sum(y_test == y_prediction)*1./len(y_test)\n",
    "    print \"Prediction accuracy:\", acc\n",
    "    # Compute area under the ROC curve (AUC)\n",
    "    fpr, tpr, thresholds = roc_curve(y_test, y_out)\n",
    "    roc_auc = auc(fpr, tpr)\n",
    "    print(\"Area under ROC curve (AUC):%s\"%roc_auc)\n",
    "    return([acc, roc_auc])\n",
    "\n",
    "\n",
    "pipeline_dict = {'rf': pipeline_rf, 'svm': pipeline_svm}\n",
    "acc_dict = {}\n",
    "auc_dict = {}\n",
    "for alg in ['rf', 'svm']:  \n",
    "  pipeline = pipeline_dict[alg]\n",
    "  mean_acc = 0.0\n",
    "  mean_auc = 0.0\n",
    "  all_tpr = []\n",
    "  all_acc = []\n",
    "  all_auc = []\n",
    "  i = 0\n",
    "  print '--- CV using %s ---' % alg\n",
    "  for training_set, test_set in scv:\n",
    "    i+=1\n",
    "    X_train = X[training_set]\n",
    "    y_train = y[training_set]\n",
    "    X_test = X[test_set]\n",
    "    y_test = y[test_set]\n",
    "    #model = RandomForestClassifier(n_estimators=100)\n",
    "    #model.fit(X_train, y_train)\n",
    "\n",
    "    getAccAuc(pipeline, X_train, y_train, X_test, y_test)\n",
    "    \n",
    "\n",
    "    all_acc.append(acc)\n",
    "    all_auc.append(roc_auc)\n",
    "    acc_dict[alg] = all_acc\n",
    "    auc_dict[alg] = all_auc\n",
    "  \n",
    "  all_acc=np.asarray(all_acc)\n",
    "  all_auc=np.asarray(all_auc)\n",
    "  print(all_acc)\n",
    "  # print 95% C.I. for both accuracy and AUC based on CV\n",
    "  print(\"Mean Accuracy: %0.2f (+/- %0.2f)\" % (all_acc.mean(), all_acc.std() * 1.96))\n",
    "  print(all_auc)\n",
    "  print(\"Mean AUC: %0.2f (+/- %0.2f)\" % (all_acc.mean(), all_auc.std() * 1.96))"
   ]
  },
  {
   "cell_type": "markdown",
   "metadata": {},
   "source": [
    "We now can start to compare the CV performance for the two type of models: rf and svm using one sapmel (student) t-test."
   ]
  },
  {
   "cell_type": "code",
   "execution_count": 154,
   "metadata": {
    "collapsed": false
   },
   "outputs": [
    {
     "name": "stdout",
     "output_type": "stream",
     "text": [
      "95% C.I. for both accuracy and AUC based on CV\n",
      "Mean Accuracy: 0.83 (+/- 0.08)\n",
      "[ 0.82753247  0.83792208  0.75588235  0.91550802  0.89358289  0.87433155\n",
      "  0.85508021  0.90588235  0.93235294  0.89106754]\n",
      "Mean AUC: 0.83 (+/- 0.10)\n",
      "95% C.I. for both accuracy and AUC based on CV\n",
      "Mean Accuracy: 0.81 (+/- 0.06)\n",
      "[ 0.82753247  0.84831169  0.76283422  0.86122995  0.89358289  0.81631016\n",
      "  0.75882353  0.74973262  0.84759358  0.89052288]\n",
      "Mean AUC: 0.81 (+/- 0.10)\n",
      "Test the hypothesis that the mean difference in accuracy between rf and svm is not significantly different from 0:\n",
      "[-0.01111111  0.02222222 -0.03370787  0.04494382  0.02247191  0.02247191\n",
      "  0.          0.01123596  0.03370787  0.02272727]\n",
      " Mean difference = 0.0135\n",
      "(1.8595170005581763, 0.095887131839307652)\n",
      "Test the hypothesis that the mean difference in AUC between rf and svm is not significantly different from 0:\n",
      "[ -2.22044605e-16  -1.03896104e-02  -6.95187166e-03   5.42780749e-02\n",
      "   0.00000000e+00   5.80213904e-02   9.62566845e-02   1.56149733e-01\n",
      "   8.47593583e-02   5.44662309e-04]\n",
      " Mean difference = 0.0433\n",
      "(2.4279302975547172, 0.038111709677769522)\n"
     ]
    },
    {
     "data": {
      "image/png": "[encoded data removed]",
      "text/plain": [
       "<matplotlib.figure.Figure at 0x109082690>"
      ]
     },
     "metadata": {},
     "output_type": "display_data"
    },
    {
     "data": {
      "image/png": "[encoded data removed]",
      "text/plain": [
       "<matplotlib.figure.Figure at 0x109082810>"
      ]
     },
     "metadata": {},
     "output_type": "display_data"
    }
   ],
   "source": [
    "from scipy import stats\n",
    "for alg in acc_dict:  \n",
    "    all_acc = np.array(acc_dict[alg])\n",
    "    all_auc = np.array(auc_dict[alg])\n",
    "    print \"95% C.I. for both accuracy and AUC based on CV\"    \n",
    "    print(\"Mean Accuracy: %0.2f (+/- %0.2f)\" % (all_acc.mean(), all_acc.std() * 1.96))\n",
    "    print(all_auc)\n",
    "    print(\"Mean AUC: %0.2f (+/- %0.2f)\" % (all_acc.mean(), all_auc.std() * 1.96))\n",
    "\n",
    "dfacc = pd.DataFrame(np.c_[acc_dict['rf'], acc_dict['svm']], columns=['rf','svm'])    \n",
    "dfacc.plot(kind='box', title='Accuracy from 10-fold CV')\n",
    "dfauc = pd.DataFrame(np.c_[auc_dict['rf'], auc_dict['svm']], columns=['rf','svm'])    \n",
    "dfauc.plot(kind='box', title='AUC from 10-fold CV')\n",
    "\n",
    "diff_acc = np.array(acc_dict['rf']) - np.array(acc_dict['svm'])\n",
    "diff_auc = np.array(auc_dict['rf']) - np.array(auc_dict['svm'])\n",
    "\n",
    "print 'Test the hypothesis that the mean difference in accuracy between rf and svm is not significantly different from 0:'\n",
    "print(diff_acc)\n",
    "print ' Mean difference = %0.4f' % diff_acc.mean()\n",
    "print(stats.ttest_1samp(diff_acc, popmean=0))\n",
    "print 'Test the hypothesis that the mean difference in AUC between rf and svm is not significantly different from 0:'\n",
    "print(diff_auc)\n",
    "print ' Mean difference = %0.4f' % diff_auc.mean()\n",
    "print(stats.ttest_1samp(diff_auc, popmean=0))"
   ]
  },
  {
   "cell_type": "markdown",
   "metadata": {},
   "source": [
    "The mean difference in accuracy and AUC indicates that rf performs slightly better than SVM, however we need to check if the difference is statistically significant or not using one-sample t-test.\n",
    "\n",
    "The p-value for the one-sample t-test on difference in accuracy is 0.10 >0.05, which means we can't reject the null hypothesis that there is no significant difference in accuracy between RF and SVM. \n",
    "\n",
    "Whilst the p-values for the t-test on difference in AUC is 0.04, which is marginally signifcantly different from 0 at signficance level of 0.05.\n",
    "\n",
    "More details on how to explain the t-test results, please see \n",
    "http://docs.scipy.org/doc/scipy/reference/generated/scipy.stats.ttest_1samp.html"
   ]
  },
  {
   "cell_type": "markdown",
   "metadata": {},
   "source": [
    "Now that we've determined the model we are going to use and the desired values for our tuning parameters, we can fill in the -1 values in the column Age with the mean and train our model."
   ]
  },
  {
   "cell_type": "code",
   "execution_count": 16,
   "metadata": {
    "collapsed": false
   },
   "outputs": [
    {
     "data": {
      "text/plain": [
       "count    891.000000\n",
       "mean      23.600640\n",
       "std       17.867496\n",
       "min       -1.000000\n",
       "25%        6.000000\n",
       "50%       24.000000\n",
       "75%       35.000000\n",
       "max       80.000000\n",
       "Name: Age, dtype: float64"
      ]
     },
     "execution_count": 16,
     "metadata": {},
     "output_type": "execute_result"
    }
   ],
   "source": [
    "df['Age'].describe()"
   ]
  },
  {
   "cell_type": "code",
   "execution_count": 17,
   "metadata": {
    "collapsed": false
   },
   "outputs": [],
   "source": [
    "df['Age'] = df['Age'].map(lambda x: age_mean if x == -1 else x)"
   ]
  },
  {
   "cell_type": "code",
   "execution_count": 18,
   "metadata": {
    "collapsed": false
   },
   "outputs": [
    {
     "data": {
      "text/plain": [
       "count    891.000000\n",
       "mean      29.699118\n",
       "std       13.002015\n",
       "min        0.420000\n",
       "25%       22.000000\n",
       "50%       29.699118\n",
       "75%       35.000000\n",
       "max       80.000000\n",
       "Name: Age, dtype: float64"
      ]
     },
     "execution_count": 18,
     "metadata": {},
     "output_type": "execute_result"
    }
   ],
   "source": [
    "df['Age'].describe()"
   ]
  },
  {
   "cell_type": "code",
   "execution_count": 19,
   "metadata": {
    "collapsed": false
   },
   "outputs": [],
   "source": [
    "train_data = df.values"
   ]
  },
  {
   "cell_type": "code",
   "execution_count": 22,
   "metadata": {
    "collapsed": false
   },
   "outputs": [],
   "source": [
    "model = RandomForestClassifier(n_estimators = 50, max_features=0.5, max_depth=5)\n",
    "model = model.fit(train_data[0:,2:],train_data[0:,0])"
   ]
  },
  {
   "cell_type": "markdown",
   "metadata": {},
   "source": [
    "## Scikit-learn - Making predictions"
   ]
  },
  {
   "cell_type": "code",
   "execution_count": 16,
   "metadata": {
    "collapsed": false
   },
   "outputs": [],
   "source": [
    "df_test = pd.read_csv('../data/test.csv')\n",
    "\n",
    "df_test = df_test.drop(['Name', 'Ticket', 'Cabin'], axis=1)"
   ]
  },
  {
   "cell_type": "markdown",
   "metadata": {},
   "source": [
    "We can fill in the NA values in test data with the mean, since there is no analogous problem of snooping."
   ]
  },
  {
   "cell_type": "code",
   "execution_count": 17,
   "metadata": {
    "collapsed": false
   },
   "outputs": [],
   "source": [
    "df_test['Age'] = df_test['Age'].fillna(age_mean)"
   ]
  },
  {
   "cell_type": "code",
   "execution_count": 18,
   "metadata": {
    "collapsed": false
   },
   "outputs": [
    {
     "name": "stderr",
     "output_type": "stream",
     "text": [
      "/Users/savarin/anaconda/envs/py27/lib/python2.7/site-packages/pandas/core/index.py:503: FutureWarning: scalar indexers for index type Int64Index should be integers and not floating point\n",
      "  type(self).__name__),FutureWarning)\n"
     ]
    }
   ],
   "source": [
    "fare_means = df.pivot_table('Fare', index='Pclass', aggfunc='mean')\n",
    "df_test['Fare'] = df_test[['Fare', 'Pclass']].apply(lambda x:\n",
    "                            fare_means[x['Pclass']] if pd.isnull(x['Fare'])\n",
    "                            else x['Fare'], axis=1)\n",
    "\n",
    "df_test['Gender'] = df_test['Sex'].map({'female': 0, 'male': 1}).astype(int)\n",
    "df_test = pd.concat([df_test, pd.get_dummies(df_test['Embarked'], prefix='Embarked')],\n",
    "                axis=1)\n",
    "\n",
    "df_test = df_test.drop(['Sex', 'Embarked'], axis=1)\n",
    "\n",
    "test_data = df_test.values\n",
    "\n",
    "output = model.predict(test_data[:,1:])"
   ]
  },
  {
   "cell_type": "markdown",
   "metadata": {},
   "source": [
    "## Pandas - Preparing for submission"
   ]
  },
  {
   "cell_type": "code",
   "execution_count": 19,
   "metadata": {
    "collapsed": false
   },
   "outputs": [],
   "source": [
    "result = np.c_[test_data[:,0].astype(int), output.astype(int)]\n",
    "\n",
    "df_result = pd.DataFrame(result[:,0:2], columns=['PassengerId', 'Survived'])\n",
    "df_result.to_csv('../results/titanic_1-4.csv', index=False)"
   ]
  }
 ],
 "metadata": {
  "kernelspec": {
   "display_name": "Python 2",
   "language": "python",
   "name": "python2"
  },
  "language_info": {
   "codemirror_mode": {
    "name": "ipython",
    "version": 2
   },
   "file_extension": ".py",
   "mimetype": "text/x-python",
   "name": "python",
   "nbconvert_exporter": "python",
   "pygments_lexer": "ipython2",
   "version": "2.7.9"
  }
 },
 "nbformat": 4,
 "nbformat_minor": 0
}

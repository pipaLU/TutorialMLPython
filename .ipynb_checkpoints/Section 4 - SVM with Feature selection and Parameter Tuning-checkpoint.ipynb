{
 "cells": [
  {
   "cell_type": "markdown",
   "metadata": {},
   "source": [
    "# Section 2-2 - SVM with Parameter Tuning"
   ]
  },
  {
   "cell_type": "markdown",
   "metadata": {},
   "source": [
    "Now we simply use Support Vector Machines with parameter tuning using GridSearch SV."
   ]
  },
  {
   "cell_type": "markdown",
   "metadata": {},
   "source": [
    "## Pandas - Extracting data"
   ]
  },
  {
   "cell_type": "code",
   "execution_count": 125,
   "metadata": {
    "collapsed": false
   },
   "outputs": [],
   "source": [
    "import pandas as pd\n",
    "import numpy as np\n",
    "\n",
    "df = pd.read_csv('../data/train.csv')"
   ]
  },
  {
   "cell_type": "markdown",
   "metadata": {},
   "source": [
    "## Pandas - Cleaning data"
   ]
  },
  {
   "cell_type": "code",
   "execution_count": 4,
   "metadata": {
    "collapsed": false
   },
   "outputs": [
    {
     "name": "stderr",
     "output_type": "stream",
     "text": [
      "/Applications/CompTools/miniconda/lib/python2.7/site-packages/numpy/lib/arraysetops.py:198: FutureWarning: numpy not_equal will not check object identity in the future. The comparison did not return the same result as suggested by the identity (`is`)) and will change.\n",
      "  flag = np.concatenate(([True], aux[1:] != aux[:-1]))\n"
     ]
    }
   ],
   "source": [
    "df = df.drop(['Name', 'Ticket', 'Cabin'], axis=1)\n",
    "\n",
    "age_mean = df['Age'].mean()\n",
    "df['Age'] = df['Age'].fillna(age_mean)\n",
    "\n",
    "from scipy.stats import mode\n",
    "\n",
    "mode_embarked = mode(df['Embarked'])[0][0]\n",
    "df['Embarked'] = df['Embarked'].fillna(mode_embarked)\n",
    "\n",
    "df['Gender'] = df['Sex'].map({'female': 0, 'male': 1}).astype(int)\n",
    "df = pd.concat([df, pd.get_dummies(df['Embarked'], prefix='Embarked')], axis=1)\n",
    "\n",
    "df = df.drop(['Sex', 'Embarked'], axis=1)\n",
    "\n",
    "cols = df.columns.tolist()\n",
    "cols = [cols[1]] + cols[0:1] + cols[2:]\n",
    "\n",
    "df = df[cols]\n",
    "\n",
    "train_data = df.values"
   ]
  },
  {
   "cell_type": "markdown",
   "metadata": {},
   "source": [
    "##Scikit-learn - Feature selection\n",
    "Quite often feature selection could improve model performance if the input data contain very noisy/irrelevant variables, or if the variables are highly correlated."
   ]
  },
  {
   "cell_type": "code",
   "execution_count": 22,
   "metadata": {
    "collapsed": false
   },
   "outputs": [],
   "source": [
    "# Univariate feature ranking and selection\n",
    "# RFE: Recursive Feature Elimination\n",
    "\n",
    "from sklearn.svm import SVC\n",
    "from sklearn.feature_selection import RFE\n",
    "estimator = SVC(kernel=\"linear\")\n",
    "selector = RFE(estimator, 5, step=1)\n",
    "selector = selector.fit(train_data[0:,2:], train_data[0:,0])"
   ]
  },
  {
   "cell_type": "code",
   "execution_count": 34,
   "metadata": {
    "collapsed": false
   },
   "outputs": [
    {
     "name": "stdout",
     "output_type": "stream",
     "text": [
      "('Selected features using RFE: ', array(['Survived', 'Age', 'Parch', 'Gender', 'Embarked_C'], dtype=object))\n",
      "[ True False False  True False  True False  True  True]\n",
      "[1 4 3 1 5 1 2 1 1]\n",
      "(891, 11)\n",
      "(891, 5)\n"
     ]
    }
   ],
   "source": [
    "print('Selected features using RFE: ', df.columns.values[selector.support_])\n",
    "print(selector.support_ )\n",
    "print(selector.ranking_ )\n",
    "print(train_data.shape)\n",
    "\n",
    "# Subset of training input with selected features only\n",
    "print(selector.transform(train_data[0:,2:].shape)"
   ]
  },
  {
   "cell_type": "markdown",
   "metadata": {},
   "source": [
    "## Scikit-learn - Training the model"
   ]
  },
  {
   "cell_type": "markdown",
   "metadata": {},
   "source": [
    "### Grid search for parameter tuning without feature selection\n",
    "First, without feature selection we build the parameter grid for SVC, noting that the default parameters are C = 1.0, and  gamma = 0.0. "
   ]
  },
  {
   "cell_type": "code",
   "execution_count": 74,
   "metadata": {
    "collapsed": false,
    "scrolled": true
   },
   "outputs": [
    {
     "name": "stdout",
     "output_type": "stream",
     "text": [
      "Fitting 5 folds for each of 6 candidates, totalling 30 fits\n",
      "[CV] kernel=linear, C=1.0 ............................................\n",
      "[CV] ................... kernel=linear, C=1.0, score=0.804469 -   6.1s\n",
      "[CV] kernel=linear, C=1.0 ............................................\n",
      "[CV] ................... kernel=linear, C=1.0, score=0.810056 -   4.7s\n",
      "[CV] kernel=linear, C=1.0 ............................................\n",
      "[CV] ................... kernel=linear, C=1.0, score=0.786517 -   6.6s\n",
      "[CV] kernel=linear, C=1.0 ............................................\n",
      "[CV] ................... kernel=linear, C=1.0, score=0.752809 -  34.2s\n",
      "[CV] kernel=linear, C=1.0 ............................................\n",
      "[CV] ................... kernel=linear, C=1.0, score=0.785311 -  44.4s\n",
      "[CV] kernel=linear, C=10.0 ...........................................\n",
      "[CV] .................. kernel=linear, C=10.0, score=0.804469 -  35.2s\n",
      "[CV] kernel=linear, C=10.0 ...........................................\n",
      "[CV] .................. kernel=linear, C=10.0, score=0.810056 -  44.8s\n",
      "[CV] kernel=linear, C=10.0 ...........................................\n",
      "[CV] .................. kernel=linear, C=10.0, score=0.786517 -  38.6s\n",
      "[CV] kernel=linear, C=10.0 ...........................................\n",
      "[CV] .................. kernel=linear, C=10.0, score=0.752809 - 1.4min\n",
      "[CV] kernel=linear, C=10.0 ...........................................\n",
      "[CV] .................. kernel=linear, C=10.0, score=0.785311 - 2.1min\n",
      "[CV] kernel=rbf, C=1.0, gamma=0.1 ....................................\n",
      "[CV] ........... kernel=rbf, C=1.0, gamma=0.1, score=0.592179 -   0.1s\n",
      "[CV] kernel=rbf, C=1.0, gamma=0.1 ....................................\n",
      "[CV] ........... kernel=rbf, C=1.0, gamma=0.1, score=0.687151 -   0.1s\n",
      "[CV] kernel=rbf, C=1.0, gamma=0.1 ....................................\n",
      "[CV] ........... kernel=rbf, C=1.0, gamma=0.1, score=0.707865 -   0.1s\n",
      "[CV] kernel=rbf, C=1.0, gamma=0.1 ....................................\n",
      "[CV] ........... kernel=rbf, C=1.0, gamma=0.1, score=0.758427 -   0.1s\n",
      "[CV] kernel=rbf, C=1.0, gamma=0.1 ....................................\n",
      "[CV] ........... kernel=rbf, C=1.0, gamma=0.1, score=0.723164 -   0.1s\n",
      "[CV] kernel=rbf, C=1.0, gamma=1.0 ....................................\n",
      "[CV] ........... kernel=rbf, C=1.0, gamma=1.0, score=0.675978 -   0.1s\n",
      "[CV] kernel=rbf, C=1.0, gamma=1.0 ....................................\n",
      "[CV] ........... kernel=rbf, C=1.0, gamma=1.0, score=0.648045 -   0.1s\n",
      "[CV] kernel=rbf, C=1.0, gamma=1.0 ....................................\n",
      "[CV] ........... kernel=rbf, C=1.0, gamma=1.0, score=0.713483 -   0.2s\n",
      "[CV] kernel=rbf, C=1.0, gamma=1.0 ....................................\n",
      "[CV] ........... kernel=rbf, C=1.0, gamma=1.0, score=0.668539 -   0.1s\n",
      "[CV] kernel=rbf, C=1.0, gamma=1.0 ....................................\n",
      "[CV] ........... kernel=rbf, C=1.0, gamma=1.0, score=0.604520 -   0.1s\n",
      "[CV] kernel=rbf, C=10.0, gamma=0.1 ...................................\n",
      "[CV] .......... kernel=rbf, C=10.0, gamma=0.1, score=0.675978 -   0.1s\n",
      "[CV] kernel=rbf, C=10.0, gamma=0.1 ...................................\n",
      "[CV] .......... kernel=rbf, C=10.0, gamma=0.1, score=0.726257 -   0.1s\n",
      "[CV] kernel=rbf, C=10.0, gamma=0.1 ...................................\n",
      "[CV] .......... kernel=rbf, C=10.0, gamma=0.1, score=0.747191 -   0.1s\n",
      "[CV] kernel=rbf, C=10.0, gamma=0.1 ...................................\n",
      "[CV] .......... kernel=rbf, C=10.0, gamma=0.1, score=0.730337 -   0.1s\n",
      "[CV] kernel=rbf, C=10.0, gamma=0.1 ...................................\n",
      "[CV] .......... kernel=rbf, C=10.0, gamma=0.1, score=0.711864 -   0.1s\n",
      "[CV] kernel=rbf, C=10.0, gamma=1.0 ...................................\n",
      "[CV] .......... kernel=rbf, C=10.0, gamma=1.0, score=0.659218 -   0.1s\n",
      "[CV] kernel=rbf, C=10.0, gamma=1.0 ...................................\n",
      "[CV] .......... kernel=rbf, C=10.0, gamma=1.0, score=0.653631 -   0.1s\n",
      "[CV] kernel=rbf, C=10.0, gamma=1.0 ...................................\n",
      "[CV] .......... kernel=rbf, C=10.0, gamma=1.0, score=0.696629 -   0.1s\n",
      "[CV] kernel=rbf, C=10.0, gamma=1.0 ...................................\n",
      "[CV] .......... kernel=rbf, C=10.0, gamma=1.0, score=0.646067 -   0.1s\n",
      "[CV] kernel=rbf, C=10.0, gamma=1.0 ...................................\n",
      "[CV] .......... kernel=rbf, C=10.0, gamma=1.0, score=0.610169 -   0.1s"
     ]
    },
    {
     "name": "stderr",
     "output_type": "stream",
     "text": [
      "[Parallel(n_jobs=1)]: Done   1 jobs       | elapsed:    6.1s\n",
      "[Parallel(n_jobs=1)]: Done  30 out of  30 | elapsed:  7.1min finished\n"
     ]
    },
    {
     "name": "stdout",
     "output_type": "stream",
     "text": [
      "\n",
      "0.787878787879\n",
      "{'kernel': 'linear', 'C': 1.0}\n"
     ]
    }
   ],
   "source": [
    "from sklearn.grid_search import GridSearchCV\n",
    "from sklearn.cross_validation import StratifiedKFold as SKFold\n",
    "\n",
    "parameter_grid = [\n",
    "    {'kernel':['linear'], 'C': [1., 10.]},\n",
    "    {'kernel':['rbf'], 'C': [1., 10.], 'gamma': [0.1, 1.]}\n",
    "]\n",
    "\n",
    "from sklearn.cross_validation import StratifiedKFold as SKFold\n",
    "# Controling the random split of the cross-validation and using stratified CV.\n",
    "random_seed = 1234\n",
    "scv = SKFold(y=train_data[0:,0], n_folds=5, random_state=random_seed)\n",
    "\n",
    "grid_search = GridSearchCV(SVC(), parameter_grid, cv=scv, verbose=3)\n",
    "grid_search.fit(train_data[0:,2:], train_data[0:,0])\n",
    "\n",
    "# Sorting the score and print out the parameters with the best scores\n",
    "sorted(grid_search.grid_scores_, key=lambda x: x.mean_validation_score)\n",
    "print(grid_search.best_score_)\n",
    "print(grid_search.best_params_)"
   ]
  },
  {
   "cell_type": "code",
   "execution_count": 77,
   "metadata": {
    "collapsed": false
   },
   "outputs": [
    {
     "name": "stdout",
     "output_type": "stream",
     "text": [
      "(891, 5)\n",
      "Fitting 5 folds for each of 6 candidates, totalling 30 fits\n",
      "[CV] kernel=linear, C=1.0 ............................................\n",
      "[CV] ................... kernel=linear, C=1.0, score=0.804469 -   0.0s\n",
      "[CV] kernel=linear, C=1.0 ............................................\n",
      "[CV] ................... kernel=linear, C=1.0, score=0.804469 -   0.0s\n",
      "[CV] kernel=linear, C=1.0 ............................................\n",
      "[CV] ................... kernel=linear, C=1.0, score=0.786517 -   0.0s\n",
      "[CV] kernel=linear, C=1.0 ............................................\n",
      "[CV] ................... kernel=linear, C=1.0, score=0.752809 -   0.0s\n",
      "[CV] kernel=linear, C=1.0 ............................................\n",
      "[CV] ................... kernel=linear, C=1.0, score=0.785311 -   0.0s\n",
      "[CV] kernel=linear, C=10.0 ...........................................\n",
      "[CV] .................. kernel=linear, C=10.0, score=0.804469 -   0.0s\n",
      "[CV] kernel=linear, C=10.0 ...........................................\n",
      "[CV] .................. kernel=linear, C=10.0, score=0.804469 -   0.0s\n",
      "[CV] kernel=linear, C=10.0 ...........................................\n",
      "[CV] .................. kernel=linear, C=10.0, score=0.786517 -   0.0s\n",
      "[CV] kernel=linear, C=10.0 ...........................................\n",
      "[CV] .................. kernel=linear, C=10.0, score=0.752809 -   0.0s\n",
      "[CV] kernel=linear, C=10.0 ...........................................\n",
      "[CV] .................. kernel=linear, C=10.0, score=0.785311 -   0.0s\n",
      "[CV] kernel=rbf, C=1.0, gamma=0.1 ....................................\n",
      "[CV] ........... kernel=rbf, C=1.0, gamma=0.1, score=0.798883 -   0.0s\n",
      "[CV] kernel=rbf, C=1.0, gamma=0.1 ....................................\n",
      "[CV] ........... kernel=rbf, C=1.0, gamma=0.1, score=0.810056 -   0.0s\n",
      "[CV] kernel=rbf, C=1.0, gamma=0.1 ....................................\n",
      "[CV] ........... kernel=rbf, C=1.0, gamma=0.1, score=0.792135 -   0.0s\n",
      "[CV] kernel=rbf, C=1.0, gamma=0.1 ....................................\n",
      "[CV] ........... kernel=rbf, C=1.0, gamma=0.1, score=0.775281 -   0.0s\n",
      "[CV] kernel=rbf, C=1.0, gamma=0.1 ....................................\n",
      "[CV] ........... kernel=rbf, C=1.0, gamma=0.1, score=0.796610 -   0.0s\n",
      "[CV] kernel=rbf, C=1.0, gamma=1.0 ....................................\n",
      "[CV] ........... kernel=rbf, C=1.0, gamma=1.0, score=0.804469 -   0.0s\n",
      "[CV] kernel=rbf, C=1.0, gamma=1.0 ....................................\n",
      "[CV] ........... kernel=rbf, C=1.0, gamma=1.0, score=0.821229 -   0.0s\n",
      "[CV] kernel=rbf, C=1.0, gamma=1.0 ....................................\n",
      "[CV] ........... kernel=rbf, C=1.0, gamma=1.0, score=0.808989 -   0.0s\n",
      "[CV] kernel=rbf, C=1.0, gamma=1.0 ....................................\n",
      "[CV] ........... kernel=rbf, C=1.0, gamma=1.0, score=0.758427 -   0.0s\n",
      "[CV] kernel=rbf, C=1.0, gamma=1.0 ....................................\n",
      "[CV] ........... kernel=rbf, C=1.0, gamma=1.0, score=0.802260 -   0.0s\n",
      "[CV] kernel=rbf, C=10.0, gamma=0.1 ...................................\n",
      "[CV] .......... kernel=rbf, C=10.0, gamma=0.1, score=0.798883 -   0.0s\n",
      "[CV] kernel=rbf, C=10.0, gamma=0.1 ...................................\n",
      "[CV] .......... kernel=rbf, C=10.0, gamma=0.1, score=0.821229 -   0.0s\n",
      "[CV] kernel=rbf, C=10.0, gamma=0.1 ...................................\n",
      "[CV] .......... kernel=rbf, C=10.0, gamma=0.1, score=0.803371 -   0.0s\n",
      "[CV] kernel=rbf, C=10.0, gamma=0.1 ...................................\n",
      "[CV] .......... kernel=rbf, C=10.0, gamma=0.1, score=0.780899 -   0.0s\n",
      "[CV] kernel=rbf, C=10.0, gamma=0.1 ...................................\n",
      "[CV] .......... kernel=rbf, C=10.0, gamma=0.1, score=0.819209 -   0.0s\n",
      "[CV] kernel=rbf, C=10.0, gamma=1.0 ...................................\n",
      "[CV] .......... kernel=rbf, C=10.0, gamma=1.0, score=0.804469 -   0.0s\n",
      "[CV] kernel=rbf, C=10.0, gamma=1.0 ...................................\n",
      "[CV] .......... kernel=rbf, C=10.0, gamma=1.0, score=0.821229 -   0.0s\n",
      "[CV] kernel=rbf, C=10.0, gamma=1.0 ...................................\n",
      "[CV] .......... kernel=rbf, C=10.0, gamma=1.0, score=0.808989 -   0.0s\n",
      "[CV] kernel=rbf, C=10.0, gamma=1.0 ...................................\n",
      "[CV] .......... kernel=rbf, C=10.0, gamma=1.0, score=0.764045 -   0.0s\n",
      "[CV] kernel=rbf, C=10.0, gamma=1.0 ...................................\n",
      "[CV] .......... kernel=rbf, C=10.0, gamma=1.0, score=0.802260 -   0.0s"
     ]
    },
    {
     "name": "stderr",
     "output_type": "stream",
     "text": [
      "[Parallel(n_jobs=1)]: Done   1 jobs       | elapsed:    0.0s\n",
      "[Parallel(n_jobs=1)]: Done  30 out of  30 | elapsed:    0.7s finished\n"
     ]
    },
    {
     "name": "stdout",
     "output_type": "stream",
     "text": [
      "\n",
      "0.804713804714\n",
      "{'kernel': 'rbf', 'C': 10.0, 'gamma': 0.1}\n"
     ]
    }
   ],
   "source": [
    "from sklearn.cross_validation import StratifiedKFold as SKFold\n",
    "# Controling the random split of the cross-validation and using stratified CV.\n",
    "random_seed = 100000\n",
    "scv = SKFold(y=train_data[0:,0], n_folds=5, random_state=random_seed)\n",
    "\n",
    "# Use .transform method to get the input data with selected features\n",
    "print(selector.transform(train_data[0:,2:]).shape)\n",
    "\n",
    "grid_search_FS = GridSearchCV(SVC(), parameter_grid, cv=scv, verbose=3)\n",
    "grid_search_FS.fit(selector.transform(train_data[0:,2:]), train_data[0:,0])\n",
    "\n",
    "# print out the best scoring parameters\n",
    "sorted(grid_search_FS.grid_scores_, key=lambda x: x.mean_validation_score)\n",
    "print(grid_search_FS.best_score_)\n",
    "print(grid_search_FS.best_params_)"
   ]
  },
  {
   "cell_type": "markdown",
   "metadata": {},
   "source": [
    "Choose (hyper-)parameters and features that gives the best performance on CV."
   ]
  },
  {
   "cell_type": "code",
   "execution_count": 54,
   "metadata": {
    "collapsed": false
   },
   "outputs": [],
   "source": [
    "#model = SVC(kernel='linear', C=1.0, gamma=0.1)\n",
    "#model = model.fit(train_data[0:,2:], train_data[0:,0])\n",
    "\n",
    "model = SVC(kernel='rbf', C=10.0, gamma=0.1)\n",
    "model = model.fit(selector.transform(train_data[0:,2:]), train_data[0:,0])"
   ]
  },
  {
   "cell_type": "markdown",
   "metadata": {},
   "source": [
    "## Scikit-learn - Making predictions"
   ]
  },
  {
   "cell_type": "code",
   "execution_count": 121,
   "metadata": {
    "collapsed": false
   },
   "outputs": [
    {
     "data": {
      "text/html": [
       "<div style=\"max-height:1000px;max-width:1500px;overflow:auto;\">\n",
       "<table border=\"1\" class=\"dataframe\">\n",
       "  <thead>\n",
       "    <tr style=\"text-align: right;\">\n",
       "      <th></th>\n",
       "      <th>Passengerid</th>\n",
       "      <th>Decision_score</th>\n",
       "      <th>Prediction</th>\n",
       "    </tr>\n",
       "  </thead>\n",
       "  <tbody>\n",
       "    <tr>\n",
       "      <th>0</th>\n",
       "      <td>892</td>\n",
       "      <td>-1.000003</td>\n",
       "      <td>0</td>\n",
       "    </tr>\n",
       "    <tr>\n",
       "      <th>1</th>\n",
       "      <td>893</td>\n",
       "      <td>-0.332941</td>\n",
       "      <td>0</td>\n",
       "    </tr>\n",
       "    <tr>\n",
       "      <th>2</th>\n",
       "      <td>894</td>\n",
       "      <td>-1.002680</td>\n",
       "      <td>0</td>\n",
       "    </tr>\n",
       "    <tr>\n",
       "      <th>3</th>\n",
       "      <td>895</td>\n",
       "      <td>-1.000291</td>\n",
       "      <td>0</td>\n",
       "    </tr>\n",
       "    <tr>\n",
       "      <th>4</th>\n",
       "      <td>896</td>\n",
       "      <td>-0.732691</td>\n",
       "      <td>0</td>\n",
       "    </tr>\n",
       "    <tr>\n",
       "      <th>5</th>\n",
       "      <td>897</td>\n",
       "      <td>-1.000291</td>\n",
       "      <td>0</td>\n",
       "    </tr>\n",
       "    <tr>\n",
       "      <th>6</th>\n",
       "      <td>898</td>\n",
       "      <td>0.999640</td>\n",
       "      <td>1</td>\n",
       "    </tr>\n",
       "    <tr>\n",
       "      <th>7</th>\n",
       "      <td>899</td>\n",
       "      <td>-0.737536</td>\n",
       "      <td>0</td>\n",
       "    </tr>\n",
       "    <tr>\n",
       "      <th>8</th>\n",
       "      <td>900</td>\n",
       "      <td>0.898513</td>\n",
       "      <td>1</td>\n",
       "    </tr>\n",
       "    <tr>\n",
       "      <th>9</th>\n",
       "      <td>901</td>\n",
       "      <td>-1.000291</td>\n",
       "      <td>0</td>\n",
       "    </tr>\n",
       "  </tbody>\n",
       "</table>\n",
       "</div>"
      ],
      "text/plain": [
       "   Passengerid  Decision_score  Prediction\n",
       "0          892       -1.000003           0\n",
       "1          893       -0.332941           0\n",
       "2          894       -1.002680           0\n",
       "3          895       -1.000291           0\n",
       "4          896       -0.732691           0\n",
       "5          897       -1.000291           0\n",
       "6          898        0.999640           1\n",
       "7          899       -0.737536           0\n",
       "8          900        0.898513           1\n",
       "9          901       -1.000291           0"
      ]
     },
     "execution_count": 121,
     "metadata": {},
     "output_type": "execute_result"
    }
   ],
   "source": [
    "df_test = pd.read_csv('../data/test.csv')\n",
    "\n",
    "df_test = df_test.drop(['Name', 'Ticket', 'Cabin'], axis=1)\n",
    "\n",
    "df_test['Age'] = df_test['Age'].fillna(age_mean)\n",
    "\n",
    "fare_means = df.pivot_table('Fare', index='Pclass', aggfunc='mean')\n",
    "df_test['Fare'] = df_test[['Fare', 'Pclass']].apply(lambda x:\n",
    "                            fare_means[x['Pclass']] if pd.isnull(x['Fare'])\n",
    "                            else x['Fare'], axis=1)\n",
    "\n",
    "df_test['Gender'] = df_test['Sex'].map({'female': 0, 'male': 1}).astype(int)\n",
    "df_test = pd.concat([df_test, pd.get_dummies(df_test['Embarked'], prefix='Embarked')],\n",
    "                axis=1)\n",
    "\n",
    "df_test = df_test.drop(['Sex', 'Embarked'], axis=1)\n",
    "\n",
    "test_data = df_test.values\n",
    "\n",
    "df_test.head(5)\n",
    "# Use the same selected features for prediction\n",
    "output = model.predict(selector.transform(test_data[0:,1:]))\n",
    "# It's also possible to output the decision function (the continuous score) before taking the binary output.\n",
    "output1 = model.decision_function(selector.transform(test_data[0:,1:]))\n",
    "# Store the prediction output in a DataFrame\n",
    "df_predict=pd.DataFrame(np.c_[test_data[0:,0], output1, output], columns=['Passengerid', 'Decision_score', 'Prediction'])\n",
    "df_predict.head(10)\n"
   ]
  },
  {
   "cell_type": "markdown",
   "metadata": {},
   "source": [
    "## Pandas - Preparing for submission"
   ]
  },
  {
   "cell_type": "code",
   "execution_count": 128,
   "metadata": {
    "collapsed": false
   },
   "outputs": [],
   "source": [
    "result = np.c_[test_data[:,0].astype(int), output.astype(int)]\n",
    "\n",
    "df_result = pd.DataFrame(result[:,0:2], columns=['PassengerId', 'Survived'])\n",
    "df_result.to_csv('results/titanic_2-5.csv', index=False)"
   ]
  },
  {
   "cell_type": "code",
   "execution_count": null,
   "metadata": {
    "collapsed": true
   },
   "outputs": [],
   "source": []
  }
 ],
 "metadata": {
  "kernelspec": {
   "display_name": "Python 2",
   "language": "python",
   "name": "python2"
  },
  "language_info": {
   "codemirror_mode": {
    "name": "ipython",
    "version": 2
   },
   "file_extension": ".py",
   "mimetype": "text/x-python",
   "name": "python",
   "nbconvert_exporter": "python",
   "pygments_lexer": "ipython2",
   "version": "2.7.9"
  }
 },
 "nbformat": 4,
 "nbformat_minor": 0
}
